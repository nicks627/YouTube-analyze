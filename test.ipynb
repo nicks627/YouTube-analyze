{
 "cells": [
  {
   "cell_type": "code",
   "execution_count": 2,
   "metadata": {},
   "outputs": [
    {
     "name": "stdout",
     "output_type": "stream",
     "text": [
      "zsh:1: /usr/local/bin/pip: bad interpreter: /usr/local/opt/python@3.9/bin/python3.9: no such file or directory\n",
      "Requirement already satisfied: google-api-python-client in /Users/taniguchidaisuke/.pyenv/versions/3.10.4/lib/python3.10/site-packages (2.61.0)\n",
      "Requirement already satisfied: httplib2<1dev,>=0.15.0 in /Users/taniguchidaisuke/.pyenv/versions/3.10.4/lib/python3.10/site-packages (from google-api-python-client) (0.20.4)\n",
      "Requirement already satisfied: uritemplate<5,>=3.0.1 in /Users/taniguchidaisuke/.pyenv/versions/3.10.4/lib/python3.10/site-packages (from google-api-python-client) (4.1.1)\n",
      "Requirement already satisfied: google-auth-httplib2>=0.1.0 in /Users/taniguchidaisuke/.pyenv/versions/3.10.4/lib/python3.10/site-packages (from google-api-python-client) (0.1.0)\n",
      "Requirement already satisfied: google-api-core!=2.0.*,!=2.1.*,!=2.2.*,!=2.3.0,<3.0.0dev,>=1.31.5 in /Users/taniguchidaisuke/.pyenv/versions/3.10.4/lib/python3.10/site-packages (from google-api-python-client) (2.10.1)\n",
      "Requirement already satisfied: google-auth<3.0.0dev,>=1.19.0 in /Users/taniguchidaisuke/.pyenv/versions/3.10.4/lib/python3.10/site-packages (from google-api-python-client) (2.11.0)\n",
      "Requirement already satisfied: requests<3.0.0dev,>=2.18.0 in /Users/taniguchidaisuke/.pyenv/versions/3.10.4/lib/python3.10/site-packages (from google-api-core!=2.0.*,!=2.1.*,!=2.2.*,!=2.3.0,<3.0.0dev,>=1.31.5->google-api-python-client) (2.27.1)\n",
      "Requirement already satisfied: protobuf<5.0.0dev,>=3.20.1 in /Users/taniguchidaisuke/.pyenv/versions/3.10.4/lib/python3.10/site-packages (from google-api-core!=2.0.*,!=2.1.*,!=2.2.*,!=2.3.0,<3.0.0dev,>=1.31.5->google-api-python-client) (3.20.1)\n",
      "Requirement already satisfied: googleapis-common-protos<2.0dev,>=1.56.2 in /Users/taniguchidaisuke/.pyenv/versions/3.10.4/lib/python3.10/site-packages (from google-api-core!=2.0.*,!=2.1.*,!=2.2.*,!=2.3.0,<3.0.0dev,>=1.31.5->google-api-python-client) (1.56.4)\n",
      "Requirement already satisfied: pyasn1-modules>=0.2.1 in /Users/taniguchidaisuke/.pyenv/versions/3.10.4/lib/python3.10/site-packages (from google-auth<3.0.0dev,>=1.19.0->google-api-python-client) (0.2.8)\n",
      "Requirement already satisfied: six>=1.9.0 in /Users/taniguchidaisuke/.pyenv/versions/3.10.4/lib/python3.10/site-packages (from google-auth<3.0.0dev,>=1.19.0->google-api-python-client) (1.16.0)\n",
      "Requirement already satisfied: rsa<5,>=3.1.4 in /Users/taniguchidaisuke/.pyenv/versions/3.10.4/lib/python3.10/site-packages (from google-auth<3.0.0dev,>=1.19.0->google-api-python-client) (4.9)\n",
      "Requirement already satisfied: cachetools<6.0,>=2.0.0 in /Users/taniguchidaisuke/.pyenv/versions/3.10.4/lib/python3.10/site-packages (from google-auth<3.0.0dev,>=1.19.0->google-api-python-client) (5.2.0)\n",
      "Requirement already satisfied: pyparsing!=3.0.0,!=3.0.1,!=3.0.2,!=3.0.3,<4,>=2.4.2 in /Users/taniguchidaisuke/.pyenv/versions/3.10.4/lib/python3.10/site-packages (from httplib2<1dev,>=0.15.0->google-api-python-client) (3.0.9)\n",
      "Requirement already satisfied: pyasn1<0.5.0,>=0.4.6 in /Users/taniguchidaisuke/.pyenv/versions/3.10.4/lib/python3.10/site-packages (from pyasn1-modules>=0.2.1->google-auth<3.0.0dev,>=1.19.0->google-api-python-client) (0.4.8)\n",
      "Requirement already satisfied: certifi>=2017.4.17 in /Users/taniguchidaisuke/.pyenv/versions/3.10.4/lib/python3.10/site-packages (from requests<3.0.0dev,>=2.18.0->google-api-core!=2.0.*,!=2.1.*,!=2.2.*,!=2.3.0,<3.0.0dev,>=1.31.5->google-api-python-client) (2022.5.18.1)\n",
      "Requirement already satisfied: idna<4,>=2.5 in /Users/taniguchidaisuke/.pyenv/versions/3.10.4/lib/python3.10/site-packages (from requests<3.0.0dev,>=2.18.0->google-api-core!=2.0.*,!=2.1.*,!=2.2.*,!=2.3.0,<3.0.0dev,>=1.31.5->google-api-python-client) (3.3)\n",
      "Requirement already satisfied: urllib3<1.27,>=1.21.1 in /Users/taniguchidaisuke/.pyenv/versions/3.10.4/lib/python3.10/site-packages (from requests<3.0.0dev,>=2.18.0->google-api-core!=2.0.*,!=2.1.*,!=2.2.*,!=2.3.0,<3.0.0dev,>=1.31.5->google-api-python-client) (1.26.9)\n",
      "Requirement already satisfied: charset-normalizer~=2.0.0 in /Users/taniguchidaisuke/.pyenv/versions/3.10.4/lib/python3.10/site-packages (from requests<3.0.0dev,>=2.18.0->google-api-core!=2.0.*,!=2.1.*,!=2.2.*,!=2.3.0,<3.0.0dev,>=1.31.5->google-api-python-client) (2.0.12)\n",
      "\u001b[33mWARNING: There was an error checking the latest version of pip.\u001b[0m\u001b[33m\n",
      "\u001b[0m"
     ]
    }
   ],
   "source": [
    "!pip install google-api-python-client"
   ]
  },
  {
   "cell_type": "code",
   "execution_count": 3,
   "metadata": {},
   "outputs": [],
   "source": [
    "import json\n",
    "with open('secret.json') as f:\n",
    "    secret = json.load(f)"
   ]
  },
  {
   "cell_type": "code",
   "execution_count": 4,
   "metadata": {},
   "outputs": [],
   "source": [
    "from apiclient.discovery import build"
   ]
  },
  {
   "cell_type": "code",
   "execution_count": 5,
   "metadata": {},
   "outputs": [],
   "source": [
    "\n",
    "\n",
    "DEVELOPER_KEY = secret['KEY']\n",
    "YOUTUBE_API_SERVICE_NAME = \"youtube\"\n",
    "YOUTUBE_API_VERSION = \"v3\"\n",
    "\n",
    "youtube = build(YOUTUBE_API_SERVICE_NAME, YOUTUBE_API_VERSION,\n",
    "developerKey=DEVELOPER_KEY)\n",
    "\n",
    "q = 'Python 自動化'\n",
    "max_results = 30\n",
    "\n",
    "response = youtube.search().list(\n",
    "q=q,\n",
    "part=\"id,snippet\",\n",
    "order='viewCount',\n",
    "type='video',\n",
    "maxResults=max_results\n",
    ").execute()"
   ]
  },
  {
   "cell_type": "code",
   "execution_count": 6,
   "metadata": {},
   "outputs": [
    {
     "data": {
      "text/plain": [
       "{'kind': 'youtube#searchResult',\n",
       " 'etag': 'eINzWSXP4VvYJqMPiFQHxScHDKs',\n",
       " 'id': {'kind': 'youtube#video', 'videoId': 'bsq2YY-XAEo'},\n",
       " 'snippet': {'publishedAt': '2021-04-07T10:00:28Z',\n",
       "  'channelId': 'UC0xRMqPOyRNPTaL6BxhbCnQ',\n",
       "  'title': '【実演】めんどくさい業務をプログラミング（Python）で自動化する過程をお見せします',\n",
       "  'description': 'ビジネス戦闘力が圧倒的に向上するプログラミングスクール 『code4biz』  \\u200d   ↓説明会はこちら↓ http://code4biz.jp/ ※ 締切 ...',\n",
       "  'thumbnails': {'default': {'url': 'https://i.ytimg.com/vi/bsq2YY-XAEo/default.jpg',\n",
       "    'width': 120,\n",
       "    'height': 90},\n",
       "   'medium': {'url': 'https://i.ytimg.com/vi/bsq2YY-XAEo/mqdefault.jpg',\n",
       "    'width': 320,\n",
       "    'height': 180},\n",
       "   'high': {'url': 'https://i.ytimg.com/vi/bsq2YY-XAEo/hqdefault.jpg',\n",
       "    'width': 480,\n",
       "    'height': 360}},\n",
       "  'channelTitle': 'いまにゅのプログラミング塾',\n",
       "  'liveBroadcastContent': 'none',\n",
       "  'publishTime': '2021-04-07T10:00:28Z'}}"
      ]
     },
     "execution_count": 6,
     "metadata": {},
     "output_type": "execute_result"
    }
   ],
   "source": [
    "items = response['items']\n",
    "item = items[0]\n",
    "item"
   ]
  },
  {
   "cell_type": "code",
   "execution_count": 7,
   "metadata": {},
   "outputs": [],
   "source": [
    "video_id = item['id']['videoId']"
   ]
  },
  {
   "cell_type": "code",
   "execution_count": 8,
   "metadata": {},
   "outputs": [],
   "source": [
    "channel_id = item['snippet']['channelId']"
   ]
  },
  {
   "cell_type": "code",
   "execution_count": 9,
   "metadata": {},
   "outputs": [],
   "source": [
    "import pandas as pd"
   ]
  },
  {
   "cell_type": "code",
   "execution_count": 10,
   "metadata": {},
   "outputs": [],
   "source": [
    "items_id = []\n",
    "items = response['items']\n",
    "for item in items:\n",
    "    item_id = {}\n",
    "    item_id['video_id'] = item['id']['videoId']\n",
    "    item_id['channel_id'] = item['snippet']['channelId']\n",
    "    items_id.append(item_id)\n",
    "\n",
    "df_video = pd.DataFrame(items_id)"
   ]
  },
  {
   "cell_type": "code",
   "execution_count": 12,
   "metadata": {},
   "outputs": [
    {
     "data": {
      "text/html": [
       "<div>\n",
       "<style scoped>\n",
       "    .dataframe tbody tr th:only-of-type {\n",
       "        vertical-align: middle;\n",
       "    }\n",
       "\n",
       "    .dataframe tbody tr th {\n",
       "        vertical-align: top;\n",
       "    }\n",
       "\n",
       "    .dataframe thead th {\n",
       "        text-align: right;\n",
       "    }\n",
       "</style>\n",
       "<table border=\"1\" class=\"dataframe\">\n",
       "  <thead>\n",
       "    <tr style=\"text-align: right;\">\n",
       "      <th></th>\n",
       "      <th>video_id</th>\n",
       "      <th>channel_id</th>\n",
       "    </tr>\n",
       "  </thead>\n",
       "  <tbody>\n",
       "    <tr>\n",
       "      <th>0</th>\n",
       "      <td>bsq2YY-XAEo</td>\n",
       "      <td>UC0xRMqPOyRNPTaL6BxhbCnQ</td>\n",
       "    </tr>\n",
       "    <tr>\n",
       "      <th>1</th>\n",
       "      <td>s8XjEuplx_U</td>\n",
       "      <td>UC8butISFwT-Wl7EV0hUK0BQ</td>\n",
       "    </tr>\n",
       "    <tr>\n",
       "      <th>2</th>\n",
       "      <td>-5v7CuXm7Ns</td>\n",
       "      <td>UCGlgXjYVoHLD86TQQ799WIw</td>\n",
       "    </tr>\n",
       "  </tbody>\n",
       "</table>\n",
       "</div>"
      ],
      "text/plain": [
       "      video_id                channel_id\n",
       "0  bsq2YY-XAEo  UC0xRMqPOyRNPTaL6BxhbCnQ\n",
       "1  s8XjEuplx_U  UC8butISFwT-Wl7EV0hUK0BQ\n",
       "2  -5v7CuXm7Ns  UCGlgXjYVoHLD86TQQ799WIw"
      ]
     },
     "execution_count": 12,
     "metadata": {},
     "output_type": "execute_result"
    }
   ],
   "source": [
    "df_video[:3]"
   ]
  },
  {
   "cell_type": "code",
   "execution_count": 15,
   "metadata": {},
   "outputs": [],
   "source": [
    "DEVELOPER_KEY = secret['KEY']\n",
    "YOUTUBE_API_SERVICE_NAME = \"youtube\"\n",
    "YOUTUBE_API_VERSION = \"v3\"\n",
    "\n",
    "youtube = build(YOUTUBE_API_SERVICE_NAME, YOUTUBE_API_VERSION,\n",
    "developerKey=DEVELOPER_KEY)\n",
    "\n",
    "def video_search(youtube, q='自動化', max_results=50):\n",
    "    response = youtube.search().list(\n",
    "    q=q,\n",
    "    part=\"id,snippet\",\n",
    "    order='viewCount',\n",
    "    type='video',\n",
    "    maxResults=max_results\n",
    "    ).execute()\n",
    "\n",
    "    items_id = []\n",
    "    items = response['items']\n",
    "    for item in items:\n",
    "        item_id = {}\n",
    "        item_id['video_id'] = item['id']['videoId']\n",
    "        item_id['channel_id'] = item['snippet']['channelId']\n",
    "        items_id.append(item_id)\n",
    "\n",
    "    df_video = pd.DataFrame(items_id)\n",
    "    return df_video"
   ]
  },
  {
   "cell_type": "code",
   "execution_count": 16,
   "metadata": {},
   "outputs": [],
   "source": [
    "DEVELOPER_KEY = secret['KEY']\n",
    "YOUTUBE_API_SERVICE_NAME = \"youtube\"\n",
    "YOUTUBE_API_VERSION = \"v3\"\n",
    "\n",
    "youtube = build(YOUTUBE_API_SERVICE_NAME, YOUTUBE_API_VERSION,\n",
    "developerKey=DEVELOPER_KEY)\n",
    "\n",
    "df_video = video_search(youtube, q='Python 自動化', max_results=50)"
   ]
  },
  {
   "cell_type": "code",
   "execution_count": 17,
   "metadata": {},
   "outputs": [
    {
     "data": {
      "text/html": [
       "<div>\n",
       "<style scoped>\n",
       "    .dataframe tbody tr th:only-of-type {\n",
       "        vertical-align: middle;\n",
       "    }\n",
       "\n",
       "    .dataframe tbody tr th {\n",
       "        vertical-align: top;\n",
       "    }\n",
       "\n",
       "    .dataframe thead th {\n",
       "        text-align: right;\n",
       "    }\n",
       "</style>\n",
       "<table border=\"1\" class=\"dataframe\">\n",
       "  <thead>\n",
       "    <tr style=\"text-align: right;\">\n",
       "      <th></th>\n",
       "      <th>video_id</th>\n",
       "      <th>channel_id</th>\n",
       "    </tr>\n",
       "  </thead>\n",
       "  <tbody>\n",
       "    <tr>\n",
       "      <th>0</th>\n",
       "      <td>bsq2YY-XAEo</td>\n",
       "      <td>UC0xRMqPOyRNPTaL6BxhbCnQ</td>\n",
       "    </tr>\n",
       "    <tr>\n",
       "      <th>1</th>\n",
       "      <td>s8XjEuplx_U</td>\n",
       "      <td>UC8butISFwT-Wl7EV0hUK0BQ</td>\n",
       "    </tr>\n",
       "    <tr>\n",
       "      <th>2</th>\n",
       "      <td>-5v7CuXm7Ns</td>\n",
       "      <td>UCGlgXjYVoHLD86TQQ799WIw</td>\n",
       "    </tr>\n",
       "  </tbody>\n",
       "</table>\n",
       "</div>"
      ],
      "text/plain": [
       "      video_id                channel_id\n",
       "0  bsq2YY-XAEo  UC0xRMqPOyRNPTaL6BxhbCnQ\n",
       "1  s8XjEuplx_U  UC8butISFwT-Wl7EV0hUK0BQ\n",
       "2  -5v7CuXm7Ns  UCGlgXjYVoHLD86TQQ799WIw"
      ]
     },
     "execution_count": 17,
     "metadata": {},
     "output_type": "execute_result"
    }
   ],
   "source": [
    "df_video[:3]"
   ]
  },
  {
   "cell_type": "code",
   "execution_count": 18,
   "metadata": {},
   "outputs": [
    {
     "data": {
      "text/plain": [
       "['UC0xRMqPOyRNPTaL6BxhbCnQ',\n",
       " 'UC8butISFwT-Wl7EV0hUK0BQ',\n",
       " 'UCGlgXjYVoHLD86TQQ799WIw']"
      ]
     },
     "execution_count": 18,
     "metadata": {},
     "output_type": "execute_result"
    }
   ],
   "source": [
    "channel_ids = df_video['channel_id'].unique().tolist()\n",
    "channel_ids[:3]"
   ]
  },
  {
   "cell_type": "code",
   "execution_count": 20,
   "metadata": {},
   "outputs": [],
   "source": [
    "subscriber_list = youtube.channels().list(\n",
    "    id=','.join(channel_ids),\n",
    "    part=\"statistics\",\n",
    "    fields='items(id, statistics(subscriberCount))'\n",
    " ).execute()"
   ]
  },
  {
   "cell_type": "code",
   "execution_count": 21,
   "metadata": {},
   "outputs": [
    {
     "data": {
      "text/plain": [
       "[{'id': 'UCwhKqH0jDKm5vPOZ7WQ2R1A',\n",
       "  'statistics': {'subscriberCount': '67800'}},\n",
       " {'id': 'UCazV3A3_1-Mtd6E_auw_ifg',\n",
       "  'statistics': {'subscriberCount': '22100'}},\n",
       " {'id': 'UCXgGY0wkgOzynnHvSEVmE3A',\n",
       "  'statistics': {'subscriberCount': '736000'}},\n",
       " {'id': 'UCNste53_VRtP6MGUfitOYQA', 'statistics': {'subscriberCount': '6110'}},\n",
       " {'id': 'UC0xRMqPOyRNPTaL6BxhbCnQ',\n",
       "  'statistics': {'subscriberCount': '121000'}}]"
      ]
     },
     "execution_count": 21,
     "metadata": {},
     "output_type": "execute_result"
    }
   ],
   "source": [
    "subscriber_list['items'][:5]"
   ]
  },
  {
   "cell_type": "code",
   "execution_count": 34,
   "metadata": {},
   "outputs": [],
   "source": [
    "subscribers = []\n",
    "for item in subscriber_list['items']:\n",
    "    subscriber={}\n",
    "    subscriber['channel_id'] = item['id']\n",
    "    subscriber['subscriber_count'] = int(item['statistics']['subscriberCount'])\n",
    "    subscribers.append(subscriber)\n",
    "\n",
    "df_subscribers = pd.DataFrame(subscribers)"
   ]
  },
  {
   "cell_type": "code",
   "execution_count": 35,
   "metadata": {},
   "outputs": [
    {
     "data": {
      "text/html": [
       "<div>\n",
       "<style scoped>\n",
       "    .dataframe tbody tr th:only-of-type {\n",
       "        vertical-align: middle;\n",
       "    }\n",
       "\n",
       "    .dataframe tbody tr th {\n",
       "        vertical-align: top;\n",
       "    }\n",
       "\n",
       "    .dataframe thead th {\n",
       "        text-align: right;\n",
       "    }\n",
       "</style>\n",
       "<table border=\"1\" class=\"dataframe\">\n",
       "  <thead>\n",
       "    <tr style=\"text-align: right;\">\n",
       "      <th></th>\n",
       "      <th>channel_id</th>\n",
       "      <th>subscriber_count</th>\n",
       "    </tr>\n",
       "  </thead>\n",
       "  <tbody>\n",
       "    <tr>\n",
       "      <th>0</th>\n",
       "      <td>UCwhKqH0jDKm5vPOZ7WQ2R1A</td>\n",
       "      <td>67800</td>\n",
       "    </tr>\n",
       "    <tr>\n",
       "      <th>1</th>\n",
       "      <td>UCazV3A3_1-Mtd6E_auw_ifg</td>\n",
       "      <td>22100</td>\n",
       "    </tr>\n",
       "    <tr>\n",
       "      <th>2</th>\n",
       "      <td>UCXgGY0wkgOzynnHvSEVmE3A</td>\n",
       "      <td>736000</td>\n",
       "    </tr>\n",
       "  </tbody>\n",
       "</table>\n",
       "</div>"
      ],
      "text/plain": [
       "                 channel_id  subscriber_count\n",
       "0  UCwhKqH0jDKm5vPOZ7WQ2R1A             67800\n",
       "1  UCazV3A3_1-Mtd6E_auw_ifg             22100\n",
       "2  UCXgGY0wkgOzynnHvSEVmE3A            736000"
      ]
     },
     "execution_count": 35,
     "metadata": {},
     "output_type": "execute_result"
    }
   ],
   "source": [
    "df_subscribers[:3]"
   ]
  },
  {
   "cell_type": "code",
   "execution_count": 36,
   "metadata": {},
   "outputs": [
    {
     "data": {
      "text/html": [
       "<div>\n",
       "<style scoped>\n",
       "    .dataframe tbody tr th:only-of-type {\n",
       "        vertical-align: middle;\n",
       "    }\n",
       "\n",
       "    .dataframe tbody tr th {\n",
       "        vertical-align: top;\n",
       "    }\n",
       "\n",
       "    .dataframe thead th {\n",
       "        text-align: right;\n",
       "    }\n",
       "</style>\n",
       "<table border=\"1\" class=\"dataframe\">\n",
       "  <thead>\n",
       "    <tr style=\"text-align: right;\">\n",
       "      <th></th>\n",
       "      <th>video_id</th>\n",
       "      <th>channel_id</th>\n",
       "      <th>subscriber_count</th>\n",
       "    </tr>\n",
       "  </thead>\n",
       "  <tbody>\n",
       "    <tr>\n",
       "      <th>0</th>\n",
       "      <td>bsq2YY-XAEo</td>\n",
       "      <td>UC0xRMqPOyRNPTaL6BxhbCnQ</td>\n",
       "      <td>121000</td>\n",
       "    </tr>\n",
       "    <tr>\n",
       "      <th>1</th>\n",
       "      <td>KmqEyT7HznQ</td>\n",
       "      <td>UC0xRMqPOyRNPTaL6BxhbCnQ</td>\n",
       "      <td>121000</td>\n",
       "    </tr>\n",
       "    <tr>\n",
       "      <th>2</th>\n",
       "      <td>VRFfAeW30qE</td>\n",
       "      <td>UC0xRMqPOyRNPTaL6BxhbCnQ</td>\n",
       "      <td>121000</td>\n",
       "    </tr>\n",
       "  </tbody>\n",
       "</table>\n",
       "</div>"
      ],
      "text/plain": [
       "      video_id                channel_id  subscriber_count\n",
       "0  bsq2YY-XAEo  UC0xRMqPOyRNPTaL6BxhbCnQ            121000\n",
       "1  KmqEyT7HznQ  UC0xRMqPOyRNPTaL6BxhbCnQ            121000\n",
       "2  VRFfAeW30qE  UC0xRMqPOyRNPTaL6BxhbCnQ            121000"
      ]
     },
     "execution_count": 36,
     "metadata": {},
     "output_type": "execute_result"
    }
   ],
   "source": [
    "df = pd.merge(left=df_video, right=df_subscribers, on='channel_id')\n",
    "df.head(3)"
   ]
  },
  {
   "cell_type": "code",
   "execution_count": 41,
   "metadata": {},
   "outputs": [
    {
     "data": {
      "text/html": [
       "<div>\n",
       "<style scoped>\n",
       "    .dataframe tbody tr th:only-of-type {\n",
       "        vertical-align: middle;\n",
       "    }\n",
       "\n",
       "    .dataframe tbody tr th {\n",
       "        vertical-align: top;\n",
       "    }\n",
       "\n",
       "    .dataframe thead th {\n",
       "        text-align: right;\n",
       "    }\n",
       "</style>\n",
       "<table border=\"1\" class=\"dataframe\">\n",
       "  <thead>\n",
       "    <tr style=\"text-align: right;\">\n",
       "      <th></th>\n",
       "      <th>video_id</th>\n",
       "      <th>channel_id</th>\n",
       "      <th>subscriber_count</th>\n",
       "    </tr>\n",
       "  </thead>\n",
       "  <tbody>\n",
       "    <tr>\n",
       "      <th>33</th>\n",
       "      <td>YwIX8w9i2DM</td>\n",
       "      <td>UCbg0ptFI3yZ4Pe5vmUiEzzA</td>\n",
       "      <td>7330</td>\n",
       "    </tr>\n",
       "    <tr>\n",
       "      <th>40</th>\n",
       "      <td>YbGAUEjTKg4</td>\n",
       "      <td>UC6OrQk8WsnCOR1OezlUU9zQ</td>\n",
       "      <td>7000</td>\n",
       "    </tr>\n",
       "    <tr>\n",
       "      <th>41</th>\n",
       "      <td>uaIUOQ47eP8</td>\n",
       "      <td>UCEq0oQsS-voRnSWbcviIDGA</td>\n",
       "      <td>7930</td>\n",
       "    </tr>\n",
       "    <tr>\n",
       "      <th>42</th>\n",
       "      <td>SPf_nINsCfw</td>\n",
       "      <td>UCGFxqqRaM97VjM5ToRfkoFg</td>\n",
       "      <td>6820</td>\n",
       "    </tr>\n",
       "    <tr>\n",
       "      <th>44</th>\n",
       "      <td>ku9xVrR2YK8</td>\n",
       "      <td>UCm7ZBVMISPFosktFoP421Lg</td>\n",
       "      <td>1930</td>\n",
       "    </tr>\n",
       "    <tr>\n",
       "      <th>47</th>\n",
       "      <td>mWPI8vI2scQ</td>\n",
       "      <td>UCkyrFlOF7I6U-IMUxum9HrA</td>\n",
       "      <td>6120</td>\n",
       "    </tr>\n",
       "    <tr>\n",
       "      <th>49</th>\n",
       "      <td>nCfAtMooIQQ</td>\n",
       "      <td>UCNste53_VRtP6MGUfitOYQA</td>\n",
       "      <td>6110</td>\n",
       "    </tr>\n",
       "  </tbody>\n",
       "</table>\n",
       "</div>"
      ],
      "text/plain": [
       "       video_id                channel_id  subscriber_count\n",
       "33  YwIX8w9i2DM  UCbg0ptFI3yZ4Pe5vmUiEzzA              7330\n",
       "40  YbGAUEjTKg4  UC6OrQk8WsnCOR1OezlUU9zQ              7000\n",
       "41  uaIUOQ47eP8  UCEq0oQsS-voRnSWbcviIDGA              7930\n",
       "42  SPf_nINsCfw  UCGFxqqRaM97VjM5ToRfkoFg              6820\n",
       "44  ku9xVrR2YK8  UCm7ZBVMISPFosktFoP421Lg              1930\n",
       "47  mWPI8vI2scQ  UCkyrFlOF7I6U-IMUxum9HrA              6120\n",
       "49  nCfAtMooIQQ  UCNste53_VRtP6MGUfitOYQA              6110"
      ]
     },
     "execution_count": 41,
     "metadata": {},
     "output_type": "execute_result"
    }
   ],
   "source": [
    "df_extracted = df[df['subscriber_count']<10000]\n",
    "df_extracted"
   ]
  },
  {
   "cell_type": "code",
   "execution_count": 42,
   "metadata": {},
   "outputs": [],
   "source": [
    "video_ids = df_extracted['video_id'].tolist()"
   ]
  },
  {
   "cell_type": "code",
   "execution_count": 47,
   "metadata": {},
   "outputs": [],
   "source": [
    "video_list = youtube.videos().list(\n",
    "    id=','.join(video_ids),\n",
    "    part=\"snippet, statistics\",\n",
    "    fields='items(id, snippet(title),statistics(viewCount))'\n",
    " ).execute()"
   ]
  },
  {
   "cell_type": "code",
   "execution_count": 48,
   "metadata": {},
   "outputs": [
    {
     "data": {
      "text/plain": [
       "[{'id': 'YwIX8w9i2DM',\n",
       "  'snippet': {'title': 'Automate Excel with Python Tutorial (2020)'},\n",
       "  'statistics': {'viewCount': '267773'}},\n",
       " {'id': 'YbGAUEjTKg4',\n",
       "  'snippet': {'title': 'Web Automation using Python To Fill out A Form'},\n",
       "  'statistics': {'viewCount': '106921'}},\n",
       " {'id': 'uaIUOQ47eP8',\n",
       "  'snippet': {'title': 'Google IT Automation with Python Professional Certificate'},\n",
       "  'statistics': {'viewCount': '86213'}}]"
      ]
     },
     "execution_count": 48,
     "metadata": {},
     "output_type": "execute_result"
    }
   ],
   "source": [
    "video_list['items'][:3]"
   ]
  },
  {
   "cell_type": "code",
   "execution_count": 49,
   "metadata": {},
   "outputs": [],
   "source": [
    "items = video_list['items']\n",
    "videos_info = []\n",
    "for item in items:\n",
    "    video_info = {}\n",
    "    video_info['video_id'] = item['id']\n",
    "    video_info['title'] = item['snippet']['title']\n",
    "    video_info['view_count'] = item['statistics']['viewCount']\n",
    "    videos_info.append(video_info)\n",
    "df_videos_info = pd.DataFrame(videos_info)"
   ]
  },
  {
   "cell_type": "code",
   "execution_count": 50,
   "metadata": {},
   "outputs": [
    {
     "data": {
      "text/html": [
       "<div>\n",
       "<style scoped>\n",
       "    .dataframe tbody tr th:only-of-type {\n",
       "        vertical-align: middle;\n",
       "    }\n",
       "\n",
       "    .dataframe tbody tr th {\n",
       "        vertical-align: top;\n",
       "    }\n",
       "\n",
       "    .dataframe thead th {\n",
       "        text-align: right;\n",
       "    }\n",
       "</style>\n",
       "<table border=\"1\" class=\"dataframe\">\n",
       "  <thead>\n",
       "    <tr style=\"text-align: right;\">\n",
       "      <th></th>\n",
       "      <th>video_id</th>\n",
       "      <th>title</th>\n",
       "      <th>view_count</th>\n",
       "    </tr>\n",
       "  </thead>\n",
       "  <tbody>\n",
       "    <tr>\n",
       "      <th>0</th>\n",
       "      <td>YwIX8w9i2DM</td>\n",
       "      <td>Automate Excel with Python Tutorial (2020)</td>\n",
       "      <td>267773</td>\n",
       "    </tr>\n",
       "    <tr>\n",
       "      <th>1</th>\n",
       "      <td>YbGAUEjTKg4</td>\n",
       "      <td>Web Automation using Python To Fill out A Form</td>\n",
       "      <td>106921</td>\n",
       "    </tr>\n",
       "    <tr>\n",
       "      <th>2</th>\n",
       "      <td>uaIUOQ47eP8</td>\n",
       "      <td>Google IT Automation with Python Professional ...</td>\n",
       "      <td>86213</td>\n",
       "    </tr>\n",
       "  </tbody>\n",
       "</table>\n",
       "</div>"
      ],
      "text/plain": [
       "      video_id                                              title view_count\n",
       "0  YwIX8w9i2DM         Automate Excel with Python Tutorial (2020)     267773\n",
       "1  YbGAUEjTKg4     Web Automation using Python To Fill out A Form     106921\n",
       "2  uaIUOQ47eP8  Google IT Automation with Python Professional ...      86213"
      ]
     },
     "execution_count": 50,
     "metadata": {},
     "output_type": "execute_result"
    }
   ],
   "source": [
    "df_videos_info[:3]"
   ]
  },
  {
   "cell_type": "code",
   "execution_count": 51,
   "metadata": {},
   "outputs": [
    {
     "data": {
      "text/html": [
       "<div>\n",
       "<style scoped>\n",
       "    .dataframe tbody tr th:only-of-type {\n",
       "        vertical-align: middle;\n",
       "    }\n",
       "\n",
       "    .dataframe tbody tr th {\n",
       "        vertical-align: top;\n",
       "    }\n",
       "\n",
       "    .dataframe thead th {\n",
       "        text-align: right;\n",
       "    }\n",
       "</style>\n",
       "<table border=\"1\" class=\"dataframe\">\n",
       "  <thead>\n",
       "    <tr style=\"text-align: right;\">\n",
       "      <th></th>\n",
       "      <th>video_id</th>\n",
       "      <th>channel_id</th>\n",
       "      <th>subscriber_count</th>\n",
       "      <th>title</th>\n",
       "      <th>view_count</th>\n",
       "    </tr>\n",
       "  </thead>\n",
       "  <tbody>\n",
       "    <tr>\n",
       "      <th>0</th>\n",
       "      <td>YwIX8w9i2DM</td>\n",
       "      <td>UCbg0ptFI3yZ4Pe5vmUiEzzA</td>\n",
       "      <td>7330</td>\n",
       "      <td>Automate Excel with Python Tutorial (2020)</td>\n",
       "      <td>267773</td>\n",
       "    </tr>\n",
       "    <tr>\n",
       "      <th>1</th>\n",
       "      <td>YbGAUEjTKg4</td>\n",
       "      <td>UC6OrQk8WsnCOR1OezlUU9zQ</td>\n",
       "      <td>7000</td>\n",
       "      <td>Web Automation using Python To Fill out A Form</td>\n",
       "      <td>106921</td>\n",
       "    </tr>\n",
       "    <tr>\n",
       "      <th>2</th>\n",
       "      <td>uaIUOQ47eP8</td>\n",
       "      <td>UCEq0oQsS-voRnSWbcviIDGA</td>\n",
       "      <td>7930</td>\n",
       "      <td>Google IT Automation with Python Professional ...</td>\n",
       "      <td>86213</td>\n",
       "    </tr>\n",
       "  </tbody>\n",
       "</table>\n",
       "</div>"
      ],
      "text/plain": [
       "      video_id                channel_id  subscriber_count  \\\n",
       "0  YwIX8w9i2DM  UCbg0ptFI3yZ4Pe5vmUiEzzA              7330   \n",
       "1  YbGAUEjTKg4  UC6OrQk8WsnCOR1OezlUU9zQ              7000   \n",
       "2  uaIUOQ47eP8  UCEq0oQsS-voRnSWbcviIDGA              7930   \n",
       "\n",
       "                                               title view_count  \n",
       "0         Automate Excel with Python Tutorial (2020)     267773  \n",
       "1     Web Automation using Python To Fill out A Form     106921  \n",
       "2  Google IT Automation with Python Professional ...      86213  "
      ]
     },
     "execution_count": 51,
     "metadata": {},
     "output_type": "execute_result"
    }
   ],
   "source": [
    "results = pd.merge(left=df_extracted, right=df_videos_info, on='video_id')\n",
    "results[:3]"
   ]
  },
  {
   "cell_type": "code",
   "execution_count": 52,
   "metadata": {},
   "outputs": [],
   "source": [
    "results = results.loc[:, ['video_id', 'title', 'view_count', 'subscriber_count', 'channel_id']]"
   ]
  },
  {
   "cell_type": "code",
   "execution_count": 53,
   "metadata": {},
   "outputs": [
    {
     "data": {
      "text/html": [
       "<div>\n",
       "<style scoped>\n",
       "    .dataframe tbody tr th:only-of-type {\n",
       "        vertical-align: middle;\n",
       "    }\n",
       "\n",
       "    .dataframe tbody tr th {\n",
       "        vertical-align: top;\n",
       "    }\n",
       "\n",
       "    .dataframe thead th {\n",
       "        text-align: right;\n",
       "    }\n",
       "</style>\n",
       "<table border=\"1\" class=\"dataframe\">\n",
       "  <thead>\n",
       "    <tr style=\"text-align: right;\">\n",
       "      <th></th>\n",
       "      <th>video_id</th>\n",
       "      <th>title</th>\n",
       "      <th>view_count</th>\n",
       "      <th>subscriber_count</th>\n",
       "      <th>channel_id</th>\n",
       "    </tr>\n",
       "  </thead>\n",
       "  <tbody>\n",
       "    <tr>\n",
       "      <th>0</th>\n",
       "      <td>YwIX8w9i2DM</td>\n",
       "      <td>Automate Excel with Python Tutorial (2020)</td>\n",
       "      <td>267773</td>\n",
       "      <td>7330</td>\n",
       "      <td>UCbg0ptFI3yZ4Pe5vmUiEzzA</td>\n",
       "    </tr>\n",
       "    <tr>\n",
       "      <th>1</th>\n",
       "      <td>YbGAUEjTKg4</td>\n",
       "      <td>Web Automation using Python To Fill out A Form</td>\n",
       "      <td>106921</td>\n",
       "      <td>7000</td>\n",
       "      <td>UC6OrQk8WsnCOR1OezlUU9zQ</td>\n",
       "    </tr>\n",
       "    <tr>\n",
       "      <th>2</th>\n",
       "      <td>uaIUOQ47eP8</td>\n",
       "      <td>Google IT Automation with Python Professional ...</td>\n",
       "      <td>86213</td>\n",
       "      <td>7930</td>\n",
       "      <td>UCEq0oQsS-voRnSWbcviIDGA</td>\n",
       "    </tr>\n",
       "  </tbody>\n",
       "</table>\n",
       "</div>"
      ],
      "text/plain": [
       "      video_id                                              title view_count  \\\n",
       "0  YwIX8w9i2DM         Automate Excel with Python Tutorial (2020)     267773   \n",
       "1  YbGAUEjTKg4     Web Automation using Python To Fill out A Form     106921   \n",
       "2  uaIUOQ47eP8  Google IT Automation with Python Professional ...      86213   \n",
       "\n",
       "   subscriber_count                channel_id  \n",
       "0              7330  UCbg0ptFI3yZ4Pe5vmUiEzzA  \n",
       "1              7000  UC6OrQk8WsnCOR1OezlUU9zQ  \n",
       "2              7930  UCEq0oQsS-voRnSWbcviIDGA  "
      ]
     },
     "execution_count": 53,
     "metadata": {},
     "output_type": "execute_result"
    }
   ],
   "source": [
    "results[:3]"
   ]
  },
  {
   "cell_type": "code",
   "execution_count": 56,
   "metadata": {},
   "outputs": [],
   "source": [
    "def get_results(df_video, threshold=5000):\n",
    "    channel_ids = df_video['channel_id'].unique().tolist()\n",
    "\n",
    "    subscriber_list = youtube.channels().list(\n",
    "        id=','.join(channel_ids),\n",
    "        part='statistics',\n",
    "        fields='items(id, statistics(subscriberCount))'\n",
    "    ).execute()\n",
    "\n",
    "    subsribers = []\n",
    "    for item in subscriber_list['items']:\n",
    "        subscriber = {}\n",
    "        if len(item['statistics']) > 0:\n",
    "            subscriber['channel_id'] = item['id']\n",
    "            subscriber['subscriber_count'] = int(item['statistics']['subscriberCount'])\n",
    "        else:\n",
    "            subscriber['channel_id'] = item['id']\n",
    "        subscribers.append(subscriber)\n",
    "\n",
    "    df_subscribers = pd.DataFrame(subscribers)\n",
    "\n",
    "    df = pd.merge(left=df_video, right=df_subscribers, on='channel_id')\n",
    "    df_extracted = df[df['subscriber_count'] < threshold]\n",
    "    \n",
    "    video_ids = df_extracted['video_id'].tolist()\n",
    "    videos_list = youtube.videos().list(\n",
    "        id=','.join(video_ids),\n",
    "        part='snippet, statistics',\n",
    "        fields='items(id, snippet(title), statistics(viewCount))'\n",
    "    ).execute()\n",
    "    videos_info = []\n",
    "    items = video_list['items']\n",
    "    for item in items:\n",
    "        video_info = {}\n",
    "        video_info['video_id'] = item['id']\n",
    "        video_info['title'] = item['snippet']['title']\n",
    "        video_info['view_count'] = item['statistics']['viewCount']\n",
    "        videos_info.append(video_info)\n",
    "    df_videos_info = pd.DataFrame(videos_info)\n",
    "\n",
    "    results = pd.merge(left=df_extracted, right=df_videos_info, on='video_id')\n",
    "    results = results.loc[:, ['video_id', 'title', 'view_count', 'subscriber_count', 'channel_id']]\n",
    "    return results\n",
    "    \n"
   ]
  },
  {
   "cell_type": "code",
   "execution_count": 59,
   "metadata": {},
   "outputs": [],
   "source": [
    "df_video = video_search(youtube, q='Python Excel', max_results=50)\n",
    "results = get_results(df_video, threshold=10000)"
   ]
  },
  {
   "cell_type": "code",
   "execution_count": 60,
   "metadata": {},
   "outputs": [
    {
     "data": {
      "text/html": [
       "<div>\n",
       "<style scoped>\n",
       "    .dataframe tbody tr th:only-of-type {\n",
       "        vertical-align: middle;\n",
       "    }\n",
       "\n",
       "    .dataframe tbody tr th {\n",
       "        vertical-align: top;\n",
       "    }\n",
       "\n",
       "    .dataframe thead th {\n",
       "        text-align: right;\n",
       "    }\n",
       "</style>\n",
       "<table border=\"1\" class=\"dataframe\">\n",
       "  <thead>\n",
       "    <tr style=\"text-align: right;\">\n",
       "      <th></th>\n",
       "      <th>video_id</th>\n",
       "      <th>title</th>\n",
       "      <th>view_count</th>\n",
       "      <th>subscriber_count</th>\n",
       "      <th>channel_id</th>\n",
       "    </tr>\n",
       "  </thead>\n",
       "  <tbody>\n",
       "    <tr>\n",
       "      <th>0</th>\n",
       "      <td>YwIX8w9i2DM</td>\n",
       "      <td>Automate Excel with Python Tutorial (2020)</td>\n",
       "      <td>267773</td>\n",
       "      <td>7330</td>\n",
       "      <td>UCbg0ptFI3yZ4Pe5vmUiEzzA</td>\n",
       "    </tr>\n",
       "    <tr>\n",
       "      <th>1</th>\n",
       "      <td>YwIX8w9i2DM</td>\n",
       "      <td>Automate Excel with Python Tutorial (2020)</td>\n",
       "      <td>267773</td>\n",
       "      <td>7330</td>\n",
       "      <td>UCbg0ptFI3yZ4Pe5vmUiEzzA</td>\n",
       "    </tr>\n",
       "    <tr>\n",
       "      <th>2</th>\n",
       "      <td>YwIX8w9i2DM</td>\n",
       "      <td>Automate Excel with Python Tutorial (2020)</td>\n",
       "      <td>267773</td>\n",
       "      <td>7330</td>\n",
       "      <td>UCbg0ptFI3yZ4Pe5vmUiEzzA</td>\n",
       "    </tr>\n",
       "  </tbody>\n",
       "</table>\n",
       "</div>"
      ],
      "text/plain": [
       "      video_id                                       title view_count  \\\n",
       "0  YwIX8w9i2DM  Automate Excel with Python Tutorial (2020)     267773   \n",
       "1  YwIX8w9i2DM  Automate Excel with Python Tutorial (2020)     267773   \n",
       "2  YwIX8w9i2DM  Automate Excel with Python Tutorial (2020)     267773   \n",
       "\n",
       "   subscriber_count                channel_id  \n",
       "0              7330  UCbg0ptFI3yZ4Pe5vmUiEzzA  \n",
       "1              7330  UCbg0ptFI3yZ4Pe5vmUiEzzA  \n",
       "2              7330  UCbg0ptFI3yZ4Pe5vmUiEzzA  "
      ]
     },
     "execution_count": 60,
     "metadata": {},
     "output_type": "execute_result"
    }
   ],
   "source": [
    "results[:3]"
   ]
  }
 ],
 "metadata": {
  "kernelspec": {
   "display_name": "Python 3.10.4 64-bit ('3.10.4')",
   "language": "python",
   "name": "python3"
  },
  "language_info": {
   "codemirror_mode": {
    "name": "ipython",
    "version": 3
   },
   "file_extension": ".py",
   "mimetype": "text/x-python",
   "name": "python",
   "nbconvert_exporter": "python",
   "pygments_lexer": "ipython3",
   "version": "3.10.4"
  },
  "orig_nbformat": 4,
  "vscode": {
   "interpreter": {
    "hash": "248bdc307fa9883652c711bdf518087d25f2184264d6a5cff6b238b101c65283"
   }
  }
 },
 "nbformat": 4,
 "nbformat_minor": 2
}
